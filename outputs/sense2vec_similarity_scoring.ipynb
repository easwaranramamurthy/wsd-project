{
 "cells": [
  {
   "cell_type": "code",
   "execution_count": 6,
   "metadata": {
    "collapsed": false
   },
   "outputs": [],
   "source": [
    "import gensim"
   ]
  },
  {
   "cell_type": "code",
   "execution_count": 7,
   "metadata": {
    "collapsed": false
   },
   "outputs": [],
   "source": [
    "model = gensim.models.word2vec.Word2Vec.load('./word2vec_out_second_run')"
   ]
  },
  {
   "cell_type": "code",
   "execution_count": 8,
   "metadata": {
    "collapsed": false
   },
   "outputs": [
    {
     "data": {
      "text/plain": [
       "array([ -1.10654116e+00,   5.58316469e-01,  -1.25844344e-01,\n",
       "         8.13241363e-01,  -6.21823728e-01,  -4.12413836e-01,\n",
       "         1.09279394e+00,   2.31952995e-01,  -4.42672908e-01,\n",
       "         7.86067009e-01,  -1.04523666e-01,   6.10609710e-01,\n",
       "         1.13186277e-01,   1.14066088e+00,   2.06511736e+00,\n",
       "         3.10706943e-01,   2.69390881e-01,  -1.29817784e+00,\n",
       "         1.04418576e+00,  -7.94217467e-01,   1.01141065e-01,\n",
       "        -1.26174974e+00,   1.54427707e-01,   7.90365398e-01,\n",
       "        -3.59122872e-01,   5.40592968e-01,  -1.42247915e+00,\n",
       "         9.84309256e-01,  -8.44918311e-01,  -1.51091248e-01,\n",
       "         1.07600176e+00,  -7.63865530e-01,   1.11622012e+00,\n",
       "        -2.10759118e-01,  -6.12664223e-01,   1.35777760e+00,\n",
       "         1.35767186e+00,  -7.60708630e-01,  -1.61795661e-01,\n",
       "        -8.03364038e-01,   1.37001663e-01,  -3.67410928e-01,\n",
       "        -3.64116907e-01,   1.60544425e-01,   1.67306268e+00,\n",
       "        -8.96110237e-01,   8.79058182e-01,  -5.95777571e-01,\n",
       "        -1.23988569e+00,   3.58723104e-02,   1.89413238e+00,\n",
       "         6.50091022e-02,   4.99144763e-01,   1.49533963e+00,\n",
       "         2.20976144e-01,  -8.54053974e-01,   9.35878754e-01,\n",
       "         8.99561346e-01,  -1.01216495e+00,   1.40180578e-02,\n",
       "         1.11041300e-01,  -1.62035212e-01,   3.65369201e-01,\n",
       "         6.45973310e-02,  -1.47452101e-01,   2.85317689e-01,\n",
       "        -2.38940082e-02,   1.05207253e+00,  -6.26487792e-01,\n",
       "        -2.28070289e-01,   2.24634290e-01,  -3.34198892e-01,\n",
       "        -1.52625787e+00,   5.99061325e-02,  -4.08712089e-01,\n",
       "         1.61789089e-01,   8.21081161e-01,  -4.33687478e-01,\n",
       "        -7.35970199e-01,   1.57101139e-01,   6.92339659e-01,\n",
       "        -1.43413687e+00,  -1.47425905e-01,  -8.25931504e-02,\n",
       "        -6.83850586e-01,  -2.15146944e-01,  -2.11429214e+00,\n",
       "        -2.03686610e-01,  -6.40953779e-01,  -1.09014761e+00,\n",
       "         2.89303154e-01,  -7.32281953e-02,  -7.11361825e-01,\n",
       "        -9.19268727e-01,  -1.04285955e+00,  -5.47383368e-01,\n",
       "        -1.67824075e-01,  -1.83756161e+00,  -2.81794101e-01,\n",
       "         2.45723128e-01,   7.39387333e-01,   6.02888584e-01,\n",
       "         2.51254827e-01,   1.01074135e+00,   1.14426911e-01,\n",
       "         9.76565361e-01,   1.06191635e-01,  -3.39964926e-01,\n",
       "         6.09836817e-01,   3.63546640e-01,  -1.21519148e+00,\n",
       "        -7.67637417e-02,   1.67581404e-03,   9.61256862e-01,\n",
       "         8.19792747e-01,  -3.69550645e-01,  -1.16122627e+00,\n",
       "         7.13739172e-02,   4.21111938e-03,   1.32999107e-01,\n",
       "        -1.35803378e+00,   2.13284016e+00,  -1.08178043e+00,\n",
       "        -5.26583433e-01,  -4.23957378e-01,  -1.82852328e-01,\n",
       "        -3.96743298e-01,  -1.23791802e+00], dtype=float32)"
      ]
     },
     "execution_count": 8,
     "metadata": {},
     "output_type": "execute_result"
    }
   ],
   "source": [
    "model[\"apple|NOUN\"]"
   ]
  },
  {
   "cell_type": "code",
   "execution_count": 87,
   "metadata": {
    "collapsed": false
   },
   "outputs": [
    {
     "data": {
      "text/plain": [
       "[('Macintosh|PROPN', 0.9110660552978516),\n",
       " ('Quake|PROPN', 0.8730208873748779),\n",
       " ('Plus|PROPN', 0.8582462668418884),\n",
       " ('Atari|PROPN', 0.8541861772537231),\n",
       " ('Macintosh|ENT', 0.834821343421936),\n",
       " ('Plus|CONJ', 0.8315162658691406),\n",
       " ('RISC|PROPN', 0.8307234048843384),\n",
       " ('Sega|PROPN', 0.8296692371368408),\n",
       " ('Amiga|PROPN', 0.8242717981338501),\n",
       " ('XL|PROPN', 0.8177053332328796)]"
      ]
     },
     "execution_count": 87,
     "metadata": {},
     "output_type": "execute_result"
    }
   ],
   "source": [
    "model.most_similar(\"Apple|PROPN\")"
   ]
  },
  {
   "cell_type": "code",
   "execution_count": 89,
   "metadata": {
    "collapsed": false
   },
   "outputs": [
    {
     "data": {
      "text/plain": [
       "0.749561129889175"
      ]
     },
     "execution_count": 89,
     "metadata": {},
     "output_type": "execute_result"
    }
   ],
   "source": [
    "model.similarity(\"Apple|ENT\", \"Apple|PROPN\")"
   ]
  },
  {
   "cell_type": "code",
   "execution_count": 90,
   "metadata": {
    "collapsed": false
   },
   "outputs": [
    {
     "data": {
      "text/plain": [
       "0.039087276678882676"
      ]
     },
     "execution_count": 90,
     "metadata": {},
     "output_type": "execute_result"
    }
   ],
   "source": [
    "model.similarity(\"Apple|ENT\", \"apple|NOUN\")"
   ]
  },
  {
   "cell_type": "code",
   "execution_count": 91,
   "metadata": {
    "collapsed": false
   },
   "outputs": [
    {
     "data": {
      "text/plain": [
       "0.13561337680104915"
      ]
     },
     "execution_count": 91,
     "metadata": {},
     "output_type": "execute_result"
    }
   ],
   "source": [
    "model.similarity(\"Apple|PROPN\", \"apple|NOUN\")"
   ]
  }
 ],
 "metadata": {
  "anaconda-cloud": {},
  "kernelspec": {
   "display_name": "Python [conda root]",
   "language": "python",
   "name": "conda-root-py"
  },
  "language_info": {
   "codemirror_mode": {
    "name": "ipython",
    "version": 2
   },
   "file_extension": ".py",
   "mimetype": "text/x-python",
   "name": "python",
   "nbconvert_exporter": "python",
   "pygments_lexer": "ipython2",
   "version": "2.7.12"
  }
 },
 "nbformat": 4,
 "nbformat_minor": 1
}
